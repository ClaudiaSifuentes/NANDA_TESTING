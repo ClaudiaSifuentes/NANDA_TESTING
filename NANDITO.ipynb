{
  "cells": [
    {
      "cell_type": "markdown",
      "source": [
        "# 🤖 Proyecto Nandito — Integración de CrewAI con NANDA y AWS Bedrock\n",
        "\n",
        "**Nandito** es un proyecto experimental de interoperabilidad entre agentes de inteligencia artificial.  \n",
        "El objetivo principal es demostrar cómo un agente desarrollado con **CrewAI** puede conectarse a la red descentralizada **NANDA**, utilizando **AWS Bedrock** como backend de modelos fundacionales (Claude 3.5 / Haiku).  \n",
        "\n",
        "Este agente actúa como una interfaz inteligente capaz de:\n",
        "- Comprender y mejorar mensajes recibidos a través del protocolo NANDA.\n",
        "- Usar **CrewAI** para interpretar peticiones complejas y generar respuestas breves y útiles.\n",
        "- Operar bajo un entorno de prueba (sandbox) con integración directa a **AWS Bedrock**.\n",
        "\n",
        "El proyecto forma parte de la iniciativa de exploración del *Internet de Agentes (Agentic Web)*.\n"
      ],
      "metadata": {
        "id": "p98gsA2X3MSl"
      },
      "id": "p98gsA2X3MSl"
    },
    {
      "cell_type": "code",
      "source": [
        "import sys\n",
        "import os, pathlib\n",
        "import boto3\n",
        "import subprocess, sys, time"
      ],
      "metadata": {
        "id": "TdiLM9jmySOZ"
      },
      "id": "TdiLM9jmySOZ",
      "execution_count": 26,
      "outputs": []
    },
    {
      "cell_type": "markdown",
      "source": [
        "## ⚙️ Configuración del entorno\n",
        "\n",
        "Para ejecutar este proyecto es necesario instalar las dependencias principales:\n",
        "- **CrewAI**: Framework de coordinación de agentes.\n",
        "- **LiteLLM y boto3**: Acceso a modelos de AWS Bedrock.\n",
        "- **NANDA Adapter**: Librería experimental de interoperabilidad.\n",
        "- **mcp-use / mcp-utils**: Bridge necesario para comunicación MCP (Multi-Channel Protocol).\n",
        "\n",
        "Además, se aplica un pequeño parche de salida estándar (`stdout.reconfigure`) para evitar errores en entornos Jupyter.\n"
      ],
      "metadata": {
        "id": "gM642BD83u0T"
      },
      "id": "gM642BD83u0T"
    },
    {
      "cell_type": "code",
      "execution_count": 2,
      "id": "b0cd3bfe",
      "metadata": {
        "colab": {
          "base_uri": "https://localhost:8080/"
        },
        "id": "b0cd3bfe",
        "outputId": "f89fc2fa-9a1f-4a7c-b04f-1c2bb9bf0041"
      },
      "outputs": [
        {
          "output_type": "stream",
          "name": "stdout",
          "text": [
            "\u001b[2K     \u001b[90m━━━━━━━━━━━━━━━━━━━━━━━━━━━━━━━━━━━━━━━━\u001b[0m \u001b[32m42.4/42.4 kB\u001b[0m \u001b[31m3.2 MB/s\u001b[0m eta \u001b[36m0:00:00\u001b[0m\n",
            "\u001b[2K     \u001b[90m━━━━━━━━━━━━━━━━━━━━━━━━━━━━━━━━━━━━━━━━\u001b[0m \u001b[32m40.6/40.6 kB\u001b[0m \u001b[31m2.5 MB/s\u001b[0m eta \u001b[36m0:00:00\u001b[0m\n",
            "\u001b[2K     \u001b[90m━━━━━━━━━━━━━━━━━━━━━━━━━━━━━━━━━━━━━━━━\u001b[0m \u001b[32m42.8/42.8 kB\u001b[0m \u001b[31m2.9 MB/s\u001b[0m eta \u001b[36m0:00:00\u001b[0m\n",
            "\u001b[2K     \u001b[90m━━━━━━━━━━━━━━━━━━━━━━━━━━━━━━━━━━━━━━━━\u001b[0m \u001b[32m41.8/41.8 kB\u001b[0m \u001b[31m2.2 MB/s\u001b[0m eta \u001b[36m0:00:00\u001b[0m\n",
            "\u001b[2K     \u001b[90m━━━━━━━━━━━━━━━━━━━━━━━━━━━━━━━━━━━━━━━━\u001b[0m \u001b[32m67.3/67.3 kB\u001b[0m \u001b[31m4.6 MB/s\u001b[0m eta \u001b[36m0:00:00\u001b[0m\n",
            "\u001b[?25h  Installing build dependencies ... \u001b[?25l\u001b[?25hdone\n",
            "  Getting requirements to build wheel ... \u001b[?25l\u001b[?25hdone\n",
            "  Preparing metadata (pyproject.toml) ... \u001b[?25l\u001b[?25hdone\n",
            "\u001b[2K     \u001b[90m━━━━━━━━━━━━━━━━━━━━━━━━━━━━━━━━━━━━━━━━\u001b[0m \u001b[32m48.5/48.5 kB\u001b[0m \u001b[31m3.3 MB/s\u001b[0m eta \u001b[36m0:00:00\u001b[0m\n",
            "\u001b[2K   \u001b[90m━━━━━━━━━━━━━━━━━━━━━━━━━━━━━━━━━━━━━━━━\u001b[0m \u001b[32m472.6/472.6 kB\u001b[0m \u001b[31m18.1 MB/s\u001b[0m eta \u001b[36m0:00:00\u001b[0m\n",
            "\u001b[2K   \u001b[90m━━━━━━━━━━━━━━━━━━━━━━━━━━━━━━━━━━━━━━━━\u001b[0m \u001b[32m8.7/8.7 MB\u001b[0m \u001b[31m72.0 MB/s\u001b[0m eta \u001b[36m0:00:00\u001b[0m\n",
            "\u001b[2K   \u001b[90m━━━━━━━━━━━━━━━━━━━━━━━━━━━━━━━━━━━━━━━━\u001b[0m \u001b[32m139.3/139.3 kB\u001b[0m \u001b[31m8.4 MB/s\u001b[0m eta \u001b[36m0:00:00\u001b[0m\n",
            "\u001b[2K   \u001b[90m━━━━━━━━━━━━━━━━━━━━━━━━━━━━━━━━━━━━━━━━\u001b[0m \u001b[32m338.7/338.7 kB\u001b[0m \u001b[31m22.6 MB/s\u001b[0m eta \u001b[36m0:00:00\u001b[0m\n",
            "\u001b[2K   \u001b[90m━━━━━━━━━━━━━━━━━━━━━━━━━━━━━━━━━━━━━━━━\u001b[0m \u001b[32m99.7/99.7 kB\u001b[0m \u001b[31m8.0 MB/s\u001b[0m eta \u001b[36m0:00:00\u001b[0m\n",
            "\u001b[2K   \u001b[90m━━━━━━━━━━━━━━━━━━━━━━━━━━━━━━━━━━━━━━━━\u001b[0m \u001b[32m337.3/337.3 kB\u001b[0m \u001b[31m22.0 MB/s\u001b[0m eta \u001b[36m0:00:00\u001b[0m\n",
            "\u001b[2K   \u001b[90m━━━━━━━━━━━━━━━━━━━━━━━━━━━━━━━━━━━━━━━━\u001b[0m \u001b[32m14.1/14.1 MB\u001b[0m \u001b[31m80.6 MB/s\u001b[0m eta \u001b[36m0:00:00\u001b[0m\n",
            "\u001b[2K   \u001b[90m━━━━━━━━━━━━━━━━━━━━━━━━━━━━━━━━━━━━━━━━\u001b[0m \u001b[32m19.9/19.9 MB\u001b[0m \u001b[31m72.6 MB/s\u001b[0m eta \u001b[36m0:00:00\u001b[0m\n",
            "\u001b[2K   \u001b[90m━━━━━━━━━━━━━━━━━━━━━━━━━━━━━━━━━━━━━━━━\u001b[0m \u001b[32m155.5/155.5 kB\u001b[0m \u001b[31m10.8 MB/s\u001b[0m eta \u001b[36m0:00:00\u001b[0m\n",
            "\u001b[2K   \u001b[90m━━━━━━━━━━━━━━━━━━━━━━━━━━━━━━━━━━━━━━━━\u001b[0m \u001b[32m60.0/60.0 kB\u001b[0m \u001b[31m4.4 MB/s\u001b[0m eta \u001b[36m0:00:00\u001b[0m\n",
            "\u001b[2K   \u001b[90m━━━━━━━━━━━━━━━━━━━━━━━━━━━━━━━━━━━━━━━━\u001b[0m \u001b[32m5.6/5.6 MB\u001b[0m \u001b[31m91.6 MB/s\u001b[0m eta \u001b[36m0:00:00\u001b[0m\n",
            "\u001b[2K   \u001b[90m━━━━━━━━━━━━━━━━━━━━━━━━━━━━━━━━━━━━━━━━\u001b[0m \u001b[32m105.4/105.4 kB\u001b[0m \u001b[31m7.7 MB/s\u001b[0m eta \u001b[36m0:00:00\u001b[0m\n",
            "\u001b[2K   \u001b[90m━━━━━━━━━━━━━━━━━━━━━━━━━━━━━━━━━━━━━━━━\u001b[0m \u001b[32m756.0/756.0 kB\u001b[0m \u001b[31m40.7 MB/s\u001b[0m eta \u001b[36m0:00:00\u001b[0m\n",
            "\u001b[2K   \u001b[90m━━━━━━━━━━━━━━━━━━━━━━━━━━━━━━━━━━━━━━━━\u001b[0m \u001b[32m85.7/85.7 kB\u001b[0m \u001b[31m5.4 MB/s\u001b[0m eta \u001b[36m0:00:00\u001b[0m\n",
            "\u001b[2K   \u001b[90m━━━━━━━━━━━━━━━━━━━━━━━━━━━━━━━━━━━━━━━━\u001b[0m \u001b[32m242.3/242.3 kB\u001b[0m \u001b[31m18.4 MB/s\u001b[0m eta \u001b[36m0:00:00\u001b[0m\n",
            "\u001b[2K   \u001b[90m━━━━━━━━━━━━━━━━━━━━━━━━━━━━━━━━━━━━━━━━\u001b[0m \u001b[32m21.2/21.2 MB\u001b[0m \u001b[31m25.3 MB/s\u001b[0m eta \u001b[36m0:00:00\u001b[0m\n",
            "\u001b[2K   \u001b[90m━━━━━━━━━━━━━━━━━━━━━━━━━━━━━━━━━━━━━━━━\u001b[0m \u001b[32m1.7/1.7 MB\u001b[0m \u001b[31m67.2 MB/s\u001b[0m eta \u001b[36m0:00:00\u001b[0m\n",
            "\u001b[2K   \u001b[90m━━━━━━━━━━━━━━━━━━━━━━━━━━━━━━━━━━━━━━━━\u001b[0m \u001b[32m278.2/278.2 kB\u001b[0m \u001b[31m18.2 MB/s\u001b[0m eta \u001b[36m0:00:00\u001b[0m\n",
            "\u001b[2K   \u001b[90m━━━━━━━━━━━━━━━━━━━━━━━━━━━━━━━━━━━━━━━━\u001b[0m \u001b[32m45.5/45.5 kB\u001b[0m \u001b[31m2.9 MB/s\u001b[0m eta \u001b[36m0:00:00\u001b[0m\n",
            "\u001b[2K   \u001b[90m━━━━━━━━━━━━━━━━━━━━━━━━━━━━━━━━━━━━━━━━\u001b[0m \u001b[32m331.1/331.1 kB\u001b[0m \u001b[31m22.3 MB/s\u001b[0m eta \u001b[36m0:00:00\u001b[0m\n",
            "\u001b[2K   \u001b[90m━━━━━━━━━━━━━━━━━━━━━━━━━━━━━━━━━━━━━━━━\u001b[0m \u001b[32m352.0/352.0 kB\u001b[0m \u001b[31m23.4 MB/s\u001b[0m eta \u001b[36m0:00:00\u001b[0m\n",
            "\u001b[2K   \u001b[90m━━━━━━━━━━━━━━━━━━━━━━━━━━━━━━━━━━━━━━━━\u001b[0m \u001b[32m2.0/2.0 MB\u001b[0m \u001b[31m61.4 MB/s\u001b[0m eta \u001b[36m0:00:00\u001b[0m\n",
            "\u001b[2K   \u001b[90m━━━━━━━━━━━━━━━━━━━━━━━━━━━━━━━━━━━━━━━━\u001b[0m \u001b[32m128.4/128.4 kB\u001b[0m \u001b[31m9.2 MB/s\u001b[0m eta \u001b[36m0:00:00\u001b[0m\n",
            "\u001b[2K   \u001b[90m━━━━━━━━━━━━━━━━━━━━━━━━━━━━━━━━━━━━━━━━\u001b[0m \u001b[32m103.3/103.3 kB\u001b[0m \u001b[31m7.0 MB/s\u001b[0m eta \u001b[36m0:00:00\u001b[0m\n",
            "\u001b[2K   \u001b[90m━━━━━━━━━━━━━━━━━━━━━━━━━━━━━━━━━━━━━━━━\u001b[0m \u001b[32m17.3/17.3 MB\u001b[0m \u001b[31m75.9 MB/s\u001b[0m eta \u001b[36m0:00:00\u001b[0m\n",
            "\u001b[2K   \u001b[90m━━━━━━━━━━━━━━━━━━━━━━━━━━━━━━━━━━━━━━━━\u001b[0m \u001b[32m71.6/71.6 kB\u001b[0m \u001b[31m4.9 MB/s\u001b[0m eta \u001b[36m0:00:00\u001b[0m\n",
            "\u001b[2K   \u001b[90m━━━━━━━━━━━━━━━━━━━━━━━━━━━━━━━━━━━━━━━━\u001b[0m \u001b[32m2.8/2.8 MB\u001b[0m \u001b[31m70.3 MB/s\u001b[0m eta \u001b[36m0:00:00\u001b[0m\n",
            "\u001b[2K   \u001b[90m━━━━━━━━━━━━━━━━━━━━━━━━━━━━━━━━━━━━━━━━\u001b[0m \u001b[32m510.8/510.8 kB\u001b[0m \u001b[31m31.0 MB/s\u001b[0m eta \u001b[36m0:00:00\u001b[0m\n",
            "\u001b[2K   \u001b[90m━━━━━━━━━━━━━━━━━━━━━━━━━━━━━━━━━━━━━━━━\u001b[0m \u001b[32m1.6/1.6 MB\u001b[0m \u001b[31m60.1 MB/s\u001b[0m eta \u001b[36m0:00:00\u001b[0m\n",
            "\u001b[2K   \u001b[90m━━━━━━━━━━━━━━━━━━━━━━━━━━━━━━━━━━━━━━━━\u001b[0m \u001b[32m4.7/4.7 MB\u001b[0m \u001b[31m78.0 MB/s\u001b[0m eta \u001b[36m0:00:00\u001b[0m\n",
            "\u001b[2K   \u001b[90m━━━━━━━━━━━━━━━━━━━━━━━━━━━━━━━━━━━━━━━━\u001b[0m \u001b[32m452.2/452.2 kB\u001b[0m \u001b[31m26.7 MB/s\u001b[0m eta \u001b[36m0:00:00\u001b[0m\n",
            "\u001b[2K   \u001b[90m━━━━━━━━━━━━━━━━━━━━━━━━━━━━━━━━━━━━━━━━\u001b[0m \u001b[32m46.0/46.0 kB\u001b[0m \u001b[31m3.2 MB/s\u001b[0m eta \u001b[36m0:00:00\u001b[0m\n",
            "\u001b[2K   \u001b[90m━━━━━━━━━━━━━━━━━━━━━━━━━━━━━━━━━━━━━━━━\u001b[0m \u001b[32m86.8/86.8 kB\u001b[0m \u001b[31m6.3 MB/s\u001b[0m eta \u001b[36m0:00:00\u001b[0m\n",
            "\u001b[?25h  Building wheel for pypika (pyproject.toml) ... \u001b[?25l\u001b[?25hdone\n"
          ]
        }
      ],
      "source": [
        "%pip install -q crewai litellm boto3 nanda-adapter mcp-use requests"
      ]
    },
    {
      "cell_type": "code",
      "execution_count": 1,
      "id": "941d63d5",
      "metadata": {
        "colab": {
          "base_uri": "https://localhost:8080/"
        },
        "id": "941d63d5",
        "outputId": "5d58ce63-40f0-4c65-a02d-085773136df4"
      },
      "outputs": [
        {
          "output_type": "stream",
          "name": "stdout",
          "text": [
            "stdout patch OK\n"
          ]
        }
      ],
      "source": [
        "if not hasattr(sys.stdout, \"reconfigure\"):\n",
        "    setattr(sys.stdout, \"reconfigure\", lambda *a, **k: None)\n",
        "print(\"stdout patch OK\")\n"
      ]
    },
    {
      "cell_type": "markdown",
      "source": [
        "## 🧩 Creación del bridge MCP\n",
        "\n",
        "El adaptador NANDA requiere una dependencia llamada `mcp_utils`, la cual actualmente no está publicada de forma oficial.  \n",
        "Por ello, se crea un *shim* local que redirige la importación hacia el paquete `mcp_use`, que contiene la clase `MCPClient`.\n",
        "\n",
        "Este paso garantiza la compatibilidad entre NANDA Adapter y CrewAI.\n"
      ],
      "metadata": {
        "id": "k1mBA1Cu413I"
      },
      "id": "k1mBA1Cu413I"
    },
    {
      "cell_type": "code",
      "execution_count": 3,
      "id": "d932ae68",
      "metadata": {
        "colab": {
          "base_uri": "https://localhost:8080/"
        },
        "id": "d932ae68",
        "outputId": "76afc874-1df6-4740-e60a-8e7cc4687e9f"
      },
      "outputs": [
        {
          "output_type": "stream",
          "name": "stdout",
          "text": [
            "Shim mcp_utils listo en /mnt/data/mcp_utils\n"
          ]
        }
      ],
      "source": [
        "\n",
        "shim_dir = pathlib.Path('/mnt/data/mcp_utils')\n",
        "shim_dir.mkdir(parents=True, exist_ok=True)\n",
        "(shim_dir / '__init__.py').write_text('from mcp_use import MCPClient\\n')\n",
        "print('Shim mcp_utils listo en', shim_dir)"
      ]
    },
    {
      "cell_type": "markdown",
      "source": [
        "## 🔑 Carga de credenciales AWS\n",
        "\n",
        "Para conectarse a AWS Bedrock, el proyecto utiliza credenciales almacenadas en el archivo `bedrock_keys.txt`.  \n",
        "Este archivo contiene las siguientes variables:\n"
      ],
      "metadata": {
        "id": "DP6lTqWY3-YF"
      },
      "id": "DP6lTqWY3-YF"
    },
    {
      "cell_type": "code",
      "source": [
        "with open(\"bedrock_keys.txt\") as f:\n",
        "    for line in f:\n",
        "        key, value = line.strip().split(\"=\", 1)\n",
        "        os.environ[key] = value\n",
        "\n",
        "print(\"Credenciales cargadas\")"
      ],
      "metadata": {
        "colab": {
          "base_uri": "https://localhost:8080/"
        },
        "id": "C2hk21eKxQeb",
        "outputId": "32c421c1-755b-48bc-aaf2-d8407c974dbc"
      },
      "id": "C2hk21eKxQeb",
      "execution_count": 5,
      "outputs": [
        {
          "output_type": "stream",
          "name": "stdout",
          "text": [
            "Credenciales cargadas\n"
          ]
        }
      ]
    },
    {
      "cell_type": "code",
      "source": [
        "with open(\"bedrock_keys.txt\") as f:\n",
        "    for line in f:\n",
        "        if \"=\" in line:\n",
        "            key, value = line.strip().split(\"=\", 1)\n",
        "            os.environ[key] = value\n",
        "\n",
        "if not os.getenv(\"AWS_REGION\") and os.getenv(\"AWS_DEFAULT_REGION\"):\n",
        "    os.environ[\"AWS_REGION\"] = os.getenv(\"AWS_DEFAULT_REGION\")\n",
        "\n",
        "print(\"Credenciales cargadas:\")\n",
        "print(\"AWS_REGION:\", os.getenv(\"AWS_REGION\"))\n",
        "print(\"AWS_ACCESS_KEY_ID:\", os.getenv(\"AWS_ACCESS_KEY_ID\")[:6] + \"...\" if os.getenv(\"AWS_ACCESS_KEY_ID\") else \"falta\")\n",
        "print(\"AWS_SECRET_ACCESS_KEY:\", \"configurada\" if os.getenv(\"AWS_SECRET_ACCESS_KEY\") else \"falta\")\n"
      ],
      "metadata": {
        "colab": {
          "base_uri": "https://localhost:8080/"
        },
        "id": "zei2GbxtxZDA",
        "outputId": "dee87f82-9126-483f-e40f-7c2264d45740"
      },
      "id": "zei2GbxtxZDA",
      "execution_count": 12,
      "outputs": [
        {
          "output_type": "stream",
          "name": "stdout",
          "text": [
            "Credenciales cargadas:\n",
            "AWS_REGION: us-east-1\n",
            "AWS_ACCESS_KEY_ID: AKIAWT...\n",
            "AWS_SECRET_ACCESS_KEY: configurada\n"
          ]
        }
      ]
    },
    {
      "cell_type": "markdown",
      "source": [
        "Estas credenciales se cargan dinámicamente en las variables de entorno de Python (`os.environ`) para permitir que `boto3` autentique las llamadas a AWS Bedrock.\n"
      ],
      "metadata": {
        "id": "1tXqlYrW4EOT"
      },
      "id": "1tXqlYrW4EOT"
    },
    {
      "cell_type": "code",
      "execution_count": 14,
      "id": "e50a38a6",
      "metadata": {
        "colab": {
          "base_uri": "https://localhost:8080/"
        },
        "id": "e50a38a6",
        "outputId": "f3e54afc-fbe0-47f4-c94c-06e06e6b9a7d"
      },
      "outputs": [
        {
          "output_type": "stream",
          "name": "stdout",
          "text": [
            "Entorno listo\n"
          ]
        }
      ],
      "source": [
        "if \"/mnt/data\" not in os.sys.path:\n",
        "    os.sys.path.insert(0, \"/mnt/data\")\n",
        "os.environ[\"PYTHONPATH\"] = \"/mnt/data:\" + os.environ.get(\"PYTHONPATH\", \"\")\n",
        "print(\"Entorno listo\")"
      ]
    },
    {
      "cell_type": "markdown",
      "source": [
        "## 🤝 Integración de CrewAI y NANDA\n",
        "\n",
        "En esta sección se crea el archivo `server_nanda.py`, el cual define el agente y su comportamiento dentro del ecosistema NANDA.\n",
        "\n",
        "El flujo principal incluye:\n",
        "- **Definición del modelo LLM** con `CrewAI` y `AWS Bedrock`.\n",
        "- **Creación de un agente (`helper`)** con rol y objetivo definidos.\n",
        "- **Implementación de la función `crewai_improvement()`**, que ejecuta tareas de mejora de mensajes.\n",
        "- **Inicialización de NANDA Adapter**, que habilita el puente de comunicación entre agentes.\n",
        "\n",
        "El servidor se ejecutará en el puerto 6000 y permitirá recibir mensajes a través del endpoint `/api/send`.\n"
      ],
      "metadata": {
        "id": "EjCyyUA35BKc"
      },
      "id": "EjCyyUA35BKc"
    },
    {
      "cell_type": "code",
      "execution_count": 15,
      "id": "29cd058e",
      "metadata": {
        "colab": {
          "base_uri": "https://localhost:8080/"
        },
        "id": "29cd058e",
        "outputId": "0dae97d3-2699-434b-d13b-ad4494e2ac63"
      },
      "outputs": [
        {
          "output_type": "stream",
          "name": "stdout",
          "text": [
            "Escrito /mnt/data/server_nanda.py\n"
          ]
        }
      ],
      "source": [
        "from pathlib import Path\n",
        "code = r'''\n",
        "import os\n",
        "from crewai import Agent, Task, Crew, LLM\n",
        "from nanda_adapter import NANDA\n",
        "\n",
        "os.environ.setdefault(\"AWS_REGION\", \"us-east-1\")\n",
        "\n",
        "llm = LLM(\n",
        "    model=\"bedrock/anthropic.claude-3-haiku-20240307-v1:0\",\n",
        "    temperature=0.1,\n",
        "    max_tokens=800\n",
        ")\n",
        "\n",
        "helper = Agent(\n",
        "    role=\"Research Helper\",\n",
        "    goal=\"Responder de forma breve y clara.\",\n",
        "    backstory=\"Asistente que usa CrewAI y Bedrock para contestar preguntas.\",\n",
        "    llm=llm,\n",
        "    verbose=False\n",
        ")\n",
        "\n",
        "def crewai_improvement(message_text: str) -> str:\n",
        "    task = Task(\n",
        "        description=f\"Responde claramente a: {message_text}\",\n",
        "        expected_output=\"Respuesta breve y útil.\",\n",
        "        agent=helper\n",
        "    )\n",
        "    result = Crew(agents=[helper], tasks=[task]).kickoff()\n",
        "    return str(result)\n",
        "\n",
        "def main():\n",
        "    os.environ.setdefault(\"UI_CLIENT_URL\", \"\")\n",
        "    os.environ.setdefault(\"HOST\", \"0.0.0.0\")\n",
        "    os.environ.setdefault(\"PORT\", \"6000\")\n",
        "    os.environ.setdefault(\"A2A_PORT\", os.environ.get(\"PORT\", \"6000\"))\n",
        "\n",
        "    nanda = NANDA(crewai_improvement)\n",
        "    nanda.start_server_api(\"\", \"localhost\")\n",
        "\n",
        "if __name__ == \"__main__\":\n",
        "    main()\n",
        "'''\n",
        "Path(\"/mnt/data/server_nanda.py\").write_text(code)\n",
        "print(\"Escrito /mnt/data/server_nanda.py\")\n"
      ]
    },
    {
      "cell_type": "code",
      "source": [
        "!crewai create crew AI_Agent_Claude"
      ],
      "metadata": {
        "colab": {
          "base_uri": "https://localhost:8080/"
        },
        "id": "YlwUtHJtz3ha",
        "outputId": "eae63069-fe5a-49b4-dd86-b3c010cc2be1"
      },
      "id": "YlwUtHJtz3ha",
      "execution_count": 18,
      "outputs": [
        {
          "output_type": "stream",
          "name": "stdout",
          "text": [
            "\u001b[32m\u001b[1mCreating folder ai_agent_claude...\u001b[0m\n",
            "\u001b[36mCache expired or not found. Fetching provider data from the web...\u001b[0m\n",
            "\u001b[?25lDownloading  [####################################]  806196/42102\u001b[?25h\n",
            "\u001b[36mSelect a provider to set up:\u001b[0m\n",
            "\u001b[36m1. openai\u001b[0m\n",
            "\u001b[36m2. anthropic\u001b[0m\n",
            "\u001b[36m3. gemini\u001b[0m\n",
            "\u001b[36m4. nvidia_nim\u001b[0m\n",
            "\u001b[36m5. groq\u001b[0m\n",
            "\u001b[36m6. huggingface\u001b[0m\n",
            "\u001b[36m7. ollama\u001b[0m\n",
            "\u001b[36m8. watson\u001b[0m\n",
            "\u001b[36m9. bedrock\u001b[0m\n",
            "\u001b[36m10. azure\u001b[0m\n",
            "\u001b[36m11. cerebras\u001b[0m\n",
            "\u001b[36m12. sambanova\u001b[0m\n",
            "\u001b[36m13. other\u001b[0m\n",
            "\u001b[36mq. Quit\u001b[0m\n",
            "Enter the number of your choice or 'q' to quit: 9\n",
            "\u001b[36mSelect a model to use for Bedrock:\u001b[0m\n",
            "\u001b[36m1. bedrock/us.amazon.nova-pro-v1:0\u001b[0m\n",
            "\u001b[36m2. bedrock/us.amazon.nova-micro-v1:0\u001b[0m\n",
            "\u001b[36m3. bedrock/us.amazon.nova-lite-v1:0\u001b[0m\n",
            "\u001b[36m4. bedrock/us.anthropic.claude-3-5-sonnet-20240620-v1:0\u001b[0m\n",
            "\u001b[36m5. bedrock/us.anthropic.claude-3-5-haiku-20241022-v1:0\u001b[0m\n",
            "\u001b[36m6. bedrock/us.anthropic.claude-3-5-sonnet-20241022-v2:0\u001b[0m\n",
            "\u001b[36m7. bedrock/us.anthropic.claude-3-7-sonnet-20250219-v1:0\u001b[0m\n",
            "\u001b[36m8. bedrock/us.anthropic.claude-3-sonnet-20240229-v1:0\u001b[0m\n",
            "\u001b[36m9. bedrock/us.anthropic.claude-3-opus-20240229-v1:0\u001b[0m\n",
            "\u001b[36m10. bedrock/us.anthropic.claude-3-haiku-20240307-v1:0\u001b[0m\n",
            "\u001b[36m11. bedrock/us.meta.llama3-2-11b-instruct-v1:0\u001b[0m\n",
            "\u001b[36m12. bedrock/us.meta.llama3-2-3b-instruct-v1:0\u001b[0m\n",
            "\u001b[36m13. bedrock/us.meta.llama3-2-90b-instruct-v1:0\u001b[0m\n",
            "\u001b[36m14. bedrock/us.meta.llama3-2-1b-instruct-v1:0\u001b[0m\n",
            "\u001b[36m15. bedrock/us.meta.llama3-1-8b-instruct-v1:0\u001b[0m\n",
            "\u001b[36m16. bedrock/us.meta.llama3-1-70b-instruct-v1:0\u001b[0m\n",
            "\u001b[36m17. bedrock/us.meta.llama3-3-70b-instruct-v1:0\u001b[0m\n",
            "\u001b[36m18. bedrock/us.meta.llama3-1-405b-instruct-v1:0\u001b[0m\n",
            "\u001b[36m19. bedrock/eu.anthropic.claude-3-5-sonnet-20240620-v1:0\u001b[0m\n",
            "\u001b[36m20. bedrock/eu.anthropic.claude-3-sonnet-20240229-v1:0\u001b[0m\n",
            "\u001b[36m21. bedrock/eu.anthropic.claude-3-haiku-20240307-v1:0\u001b[0m\n",
            "\u001b[36m22. bedrock/eu.meta.llama3-2-3b-instruct-v1:0\u001b[0m\n",
            "\u001b[36m23. bedrock/eu.meta.llama3-2-1b-instruct-v1:0\u001b[0m\n",
            "\u001b[36m24. bedrock/apac.anthropic.claude-3-5-sonnet-20240620-v1:0\u001b[0m\n",
            "\u001b[36m25. bedrock/apac.anthropic.claude-3-5-sonnet-20241022-v2:0\u001b[0m\n",
            "\u001b[36m26. bedrock/apac.anthropic.claude-3-sonnet-20240229-v1:0\u001b[0m\n",
            "\u001b[36m27. bedrock/apac.anthropic.claude-3-haiku-20240307-v1:0\u001b[0m\n",
            "\u001b[36m28. bedrock/amazon.nova-pro-v1:0\u001b[0m\n",
            "\u001b[36m29. bedrock/amazon.nova-micro-v1:0\u001b[0m\n",
            "\u001b[36m30. bedrock/amazon.nova-lite-v1:0\u001b[0m\n",
            "\u001b[36m31. bedrock/anthropic.claude-3-5-sonnet-20240620-v1:0\u001b[0m\n",
            "\u001b[36m32. bedrock/anthropic.claude-3-5-haiku-20241022-v1:0\u001b[0m\n",
            "\u001b[36m33. bedrock/anthropic.claude-3-5-sonnet-20241022-v2:0\u001b[0m\n",
            "\u001b[36m34. bedrock/anthropic.claude-3-7-sonnet-20250219-v1:0\u001b[0m\n",
            "\u001b[36m35. bedrock/anthropic.claude-3-sonnet-20240229-v1:0\u001b[0m\n",
            "\u001b[36m36. bedrock/anthropic.claude-3-opus-20240229-v1:0\u001b[0m\n",
            "\u001b[36m37. bedrock/anthropic.claude-3-haiku-20240307-v1:0\u001b[0m\n",
            "\u001b[36m38. bedrock/anthropic.claude-v2:1\u001b[0m\n",
            "\u001b[36m39. bedrock/anthropic.claude-v2\u001b[0m\n",
            "\u001b[36m40. bedrock/anthropic.claude-instant-v1\u001b[0m\n",
            "\u001b[36m41. bedrock/meta.llama3-1-405b-instruct-v1:0\u001b[0m\n",
            "\u001b[36m42. bedrock/meta.llama3-1-70b-instruct-v1:0\u001b[0m\n",
            "\u001b[36m43. bedrock/meta.llama3-1-8b-instruct-v1:0\u001b[0m\n",
            "\u001b[36m44. bedrock/meta.llama3-70b-instruct-v1:0\u001b[0m\n",
            "\u001b[36m45. bedrock/meta.llama3-8b-instruct-v1:0\u001b[0m\n",
            "\u001b[36m46. bedrock/amazon.titan-text-lite-v1\u001b[0m\n",
            "\u001b[36m47. bedrock/amazon.titan-text-express-v1\u001b[0m\n",
            "\u001b[36m48. bedrock/cohere.command-text-v14\u001b[0m\n",
            "\u001b[36m49. bedrock/ai21.j2-mid-v1\u001b[0m\n",
            "\u001b[36m50. bedrock/ai21.j2-ultra-v1\u001b[0m\n",
            "\u001b[36m51. bedrock/ai21.jamba-instruct-v1:0\u001b[0m\n",
            "\u001b[36m52. bedrock/mistral.mistral-7b-instruct-v0:2\u001b[0m\n",
            "\u001b[36m53. bedrock/mistral.mixtral-8x7b-instruct-v0:1\u001b[0m\n",
            "\u001b[36mq. Quit\u001b[0m\n",
            "Enter the number of your choice or 'q' to quit: 32\n",
            "Enter your AWS Access Key ID (press Enter to skip): \n",
            "Enter your AWS Secret Access Key (press Enter to skip): \n",
            "Enter your AWS Region Name (press Enter to skip): \n",
            "\u001b[32mAPI keys and model saved to .env file\u001b[0m\n",
            "\u001b[32mSelected model: bedrock/anthropic.claude-3-5-haiku-20241022-v1:0\u001b[0m\n",
            "\u001b[32m  - Created ai_agent_claude/.gitignore\u001b[0m\n",
            "\u001b[32m  - Created ai_agent_claude/pyproject.toml\u001b[0m\n",
            "\u001b[32m  - Created ai_agent_claude/README.md\u001b[0m\n",
            "\u001b[32m  - Created ai_agent_claude/knowledge/user_preference.txt\u001b[0m\n",
            "\u001b[32m  - Created ai_agent_claude/src/ai_agent_claude/__init__.py\u001b[0m\n",
            "\u001b[32m  - Created ai_agent_claude/src/ai_agent_claude/main.py\u001b[0m\n",
            "\u001b[32m  - Created ai_agent_claude/src/ai_agent_claude/crew.py\u001b[0m\n",
            "\u001b[32m  - Created ai_agent_claude/src/ai_agent_claude/tools/custom_tool.py\u001b[0m\n",
            "\u001b[32m  - Created ai_agent_claude/src/ai_agent_claude/tools/__init__.py\u001b[0m\n",
            "\u001b[32m  - Created ai_agent_claude/src/ai_agent_claude/config/agents.yaml\u001b[0m\n",
            "\u001b[32m  - Created ai_agent_claude/src/ai_agent_claude/config/tasks.yaml\u001b[0m\n",
            "\u001b[32m\u001b[1mCrew AI_Agent_Claude created successfully!\u001b[0m\n"
          ]
        }
      ]
    },
    {
      "cell_type": "code",
      "source": [
        "from crewai import Agent, Task, Crew, LLM\n",
        "\n",
        "llm = LLM(\n",
        "    model=\"bedrock/anthropic.claude-3-haiku-20240307-v1:0\",\n",
        "    temperature=0.1,\n",
        "    max_tokens=800\n",
        ")\n",
        "\n",
        "helper = Agent(\n",
        "    role=\"Research Helper\",\n",
        "    goal=\"Responder consultas breves con claridad.\",\n",
        "    backstory=\"Asistente pragmático que luego podrá colaborar con otros agentes.\",\n",
        "    llm=llm,\n",
        "    verbose=True\n",
        ")\n",
        "\n",
        "task = Task(\n",
        "    description=\"Explica en 2 oraciones qué es CrewAI.\",\n",
        "    expected_output=\"Explicación breve en español.\",\n",
        "    agent=helper,\n",
        ")\n",
        "result = Crew(agents=[helper], tasks=[task]).kickoff()\n",
        "print(\"Prueba CrewAI OK:\\n\", result)"
      ],
      "metadata": {
        "colab": {
          "base_uri": "https://localhost:8080/",
          "height": 1000
        },
        "id": "a7tSKT-Q0NV7",
        "outputId": "db995979-c067-4233-f69d-aa4068f42c23"
      },
      "id": "a7tSKT-Q0NV7",
      "execution_count": 20,
      "outputs": [
        {
          "output_type": "display_data",
          "data": {
            "text/plain": [
              "\u001b[35m╭─\u001b[0m\u001b[35m──────────────────────────────────────────────\u001b[0m\u001b[35m 🤖 Agent Started \u001b[0m\u001b[35m───────────────────────────────────────────────\u001b[0m\u001b[35m─╮\u001b[0m\n",
              "\u001b[35m│\u001b[0m                                                                                                                 \u001b[35m│\u001b[0m\n",
              "\u001b[35m│\u001b[0m  \u001b[37mAgent: \u001b[0m\u001b[1;92mResearch Helper\u001b[0m                                                                                         \u001b[35m│\u001b[0m\n",
              "\u001b[35m│\u001b[0m                                                                                                                 \u001b[35m│\u001b[0m\n",
              "\u001b[35m│\u001b[0m  \u001b[37mTask: \u001b[0m\u001b[92mExplica en 2 oraciones qué es CrewAI.\u001b[0m                                                                    \u001b[35m│\u001b[0m\n",
              "\u001b[35m│\u001b[0m                                                                                                                 \u001b[35m│\u001b[0m\n",
              "\u001b[35m╰─────────────────────────────────────────────────────────────────────────────────────────────────────────────────╯\u001b[0m\n"
            ],
            "text/html": [
              "<pre style=\"white-space:pre;overflow-x:auto;line-height:normal;font-family:Menlo,'DejaVu Sans Mono',consolas,'Courier New',monospace\"><span style=\"color: #800080; text-decoration-color: #800080\">╭─────────────────────────────────────────────── 🤖 Agent Started ────────────────────────────────────────────────╮</span>\n",
              "<span style=\"color: #800080; text-decoration-color: #800080\">│</span>                                                                                                                 <span style=\"color: #800080; text-decoration-color: #800080\">│</span>\n",
              "<span style=\"color: #800080; text-decoration-color: #800080\">│</span>  <span style=\"color: #c0c0c0; text-decoration-color: #c0c0c0\">Agent: </span><span style=\"color: #00ff00; text-decoration-color: #00ff00; font-weight: bold\">Research Helper</span>                                                                                         <span style=\"color: #800080; text-decoration-color: #800080\">│</span>\n",
              "<span style=\"color: #800080; text-decoration-color: #800080\">│</span>                                                                                                                 <span style=\"color: #800080; text-decoration-color: #800080\">│</span>\n",
              "<span style=\"color: #800080; text-decoration-color: #800080\">│</span>  <span style=\"color: #c0c0c0; text-decoration-color: #c0c0c0\">Task: </span><span style=\"color: #00ff00; text-decoration-color: #00ff00\">Explica en 2 oraciones qué es CrewAI.</span>                                                                    <span style=\"color: #800080; text-decoration-color: #800080\">│</span>\n",
              "<span style=\"color: #800080; text-decoration-color: #800080\">│</span>                                                                                                                 <span style=\"color: #800080; text-decoration-color: #800080\">│</span>\n",
              "<span style=\"color: #800080; text-decoration-color: #800080\">╰─────────────────────────────────────────────────────────────────────────────────────────────────────────────────╯</span>\n",
              "</pre>\n"
            ]
          },
          "metadata": {}
        },
        {
          "output_type": "display_data",
          "data": {
            "text/plain": [
              "\n"
            ],
            "text/html": [
              "<pre style=\"white-space:pre;overflow-x:auto;line-height:normal;font-family:Menlo,'DejaVu Sans Mono',consolas,'Courier New',monospace\">\n",
              "</pre>\n"
            ]
          },
          "metadata": {}
        },
        {
          "output_type": "display_data",
          "data": {
            "text/plain": [
              "\u001b[32m╭─\u001b[0m\u001b[32m────────────────────────────────────────────\u001b[0m\u001b[32m ✅ Agent Final Answer \u001b[0m\u001b[32m────────────────────────────────────────────\u001b[0m\u001b[32m─╮\u001b[0m\n",
              "\u001b[32m│\u001b[0m                                                                                                                 \u001b[32m│\u001b[0m\n",
              "\u001b[32m│\u001b[0m  \u001b[37mAgent: \u001b[0m\u001b[1;92mResearch Helper\u001b[0m                                                                                         \u001b[32m│\u001b[0m\n",
              "\u001b[32m│\u001b[0m                                                                                                                 \u001b[32m│\u001b[0m\n",
              "\u001b[32m│\u001b[0m  \u001b[37mFinal Answer:\u001b[0m                                                                                                  \u001b[32m│\u001b[0m\n",
              "\u001b[32m│\u001b[0m  \u001b[92mCrewAI es una inteligencia artificial (IA) diseñada para colaborar con equipos humanos en proyectos y tareas.\u001b[0m  \u001b[32m│\u001b[0m\n",
              "\u001b[32m│\u001b[0m  \u001b[92mUtiliza tecnologías de procesamiento de lenguaje natural y aprendizaje automático para entender las \u001b[0m           \u001b[32m│\u001b[0m\n",
              "\u001b[32m│\u001b[0m  \u001b[92mnecesidades del equipo, asignar tareas, coordinar esfuerzos y ofrecer asistencia en tiempo real.\u001b[0m               \u001b[32m│\u001b[0m\n",
              "\u001b[32m│\u001b[0m                                                                                                                 \u001b[32m│\u001b[0m\n",
              "\u001b[32m╰─────────────────────────────────────────────────────────────────────────────────────────────────────────────────╯\u001b[0m\n"
            ],
            "text/html": [
              "<pre style=\"white-space:pre;overflow-x:auto;line-height:normal;font-family:Menlo,'DejaVu Sans Mono',consolas,'Courier New',monospace\"><span style=\"color: #008000; text-decoration-color: #008000\">╭───────────────────────────────────────────── ✅ Agent Final Answer ─────────────────────────────────────────────╮</span>\n",
              "<span style=\"color: #008000; text-decoration-color: #008000\">│</span>                                                                                                                 <span style=\"color: #008000; text-decoration-color: #008000\">│</span>\n",
              "<span style=\"color: #008000; text-decoration-color: #008000\">│</span>  <span style=\"color: #c0c0c0; text-decoration-color: #c0c0c0\">Agent: </span><span style=\"color: #00ff00; text-decoration-color: #00ff00; font-weight: bold\">Research Helper</span>                                                                                         <span style=\"color: #008000; text-decoration-color: #008000\">│</span>\n",
              "<span style=\"color: #008000; text-decoration-color: #008000\">│</span>                                                                                                                 <span style=\"color: #008000; text-decoration-color: #008000\">│</span>\n",
              "<span style=\"color: #008000; text-decoration-color: #008000\">│</span>  <span style=\"color: #c0c0c0; text-decoration-color: #c0c0c0\">Final Answer:</span>                                                                                                  <span style=\"color: #008000; text-decoration-color: #008000\">│</span>\n",
              "<span style=\"color: #008000; text-decoration-color: #008000\">│</span>  <span style=\"color: #00ff00; text-decoration-color: #00ff00\">CrewAI es una inteligencia artificial (IA) diseñada para colaborar con equipos humanos en proyectos y tareas.</span>  <span style=\"color: #008000; text-decoration-color: #008000\">│</span>\n",
              "<span style=\"color: #008000; text-decoration-color: #008000\">│</span>  <span style=\"color: #00ff00; text-decoration-color: #00ff00\">Utiliza tecnologías de procesamiento de lenguaje natural y aprendizaje automático para entender las </span>           <span style=\"color: #008000; text-decoration-color: #008000\">│</span>\n",
              "<span style=\"color: #008000; text-decoration-color: #008000\">│</span>  <span style=\"color: #00ff00; text-decoration-color: #00ff00\">necesidades del equipo, asignar tareas, coordinar esfuerzos y ofrecer asistencia en tiempo real.</span>               <span style=\"color: #008000; text-decoration-color: #008000\">│</span>\n",
              "<span style=\"color: #008000; text-decoration-color: #008000\">│</span>                                                                                                                 <span style=\"color: #008000; text-decoration-color: #008000\">│</span>\n",
              "<span style=\"color: #008000; text-decoration-color: #008000\">╰─────────────────────────────────────────────────────────────────────────────────────────────────────────────────╯</span>\n",
              "</pre>\n"
            ]
          },
          "metadata": {}
        },
        {
          "output_type": "display_data",
          "data": {
            "text/plain": [
              "\n"
            ],
            "text/html": [
              "<pre style=\"white-space:pre;overflow-x:auto;line-height:normal;font-family:Menlo,'DejaVu Sans Mono',consolas,'Courier New',monospace\">\n",
              "</pre>\n"
            ]
          },
          "metadata": {}
        },
        {
          "output_type": "display_data",
          "data": {
            "text/plain": [
              "\n",
              "\n"
            ],
            "text/html": [
              "<pre style=\"white-space:pre;overflow-x:auto;line-height:normal;font-family:Menlo,'DejaVu Sans Mono',consolas,'Courier New',monospace\">\n",
              "\n",
              "</pre>\n"
            ]
          },
          "metadata": {}
        },
        {
          "output_type": "display_data",
          "data": {
            "text/plain": [
              "\u001b[36m╭─\u001b[0m\u001b[36m──────────────────────────────────────────────\u001b[0m\u001b[36m \u001b[0m\u001b[1;36mExecution Traces\u001b[0m\u001b[36m \u001b[0m\u001b[36m───────────────────────────────────────────────\u001b[0m\u001b[36m─╮\u001b[0m\n",
              "\u001b[36m│\u001b[0m                                                                                                                 \u001b[36m│\u001b[0m\n",
              "\u001b[36m│\u001b[0m  \u001b[1;36m🔍 \u001b[0m\u001b[1;36mDetailed execution traces are available!\u001b[0m                                                                    \u001b[36m│\u001b[0m\n",
              "\u001b[36m│\u001b[0m                                                                                                                 \u001b[36m│\u001b[0m\n",
              "\u001b[36m│\u001b[0m  \u001b[37mView insights including:\u001b[0m                                                                                       \u001b[36m│\u001b[0m\n",
              "\u001b[36m│\u001b[0m  \u001b[94m  • Agent decision-making process\u001b[0m                                                                              \u001b[36m│\u001b[0m\n",
              "\u001b[36m│\u001b[0m  \u001b[94m  • Task execution flow and timing\u001b[0m                                                                             \u001b[36m│\u001b[0m\n",
              "\u001b[36m│\u001b[0m  \u001b[94m  • Tool usage details\u001b[0m                                                                                         \u001b[36m│\u001b[0m\n",
              "\u001b[36m│\u001b[0m                                                                                                                 \u001b[36m│\u001b[0m\n",
              "\u001b[36m╰─────────────────────────────────────────────────────────────────────────────────────────────────────────────────╯\u001b[0m\n"
            ],
            "text/html": [
              "<pre style=\"white-space:pre;overflow-x:auto;line-height:normal;font-family:Menlo,'DejaVu Sans Mono',consolas,'Courier New',monospace\"><span style=\"color: #008080; text-decoration-color: #008080\">╭─────────────────────────────────────────────── </span><span style=\"color: #008080; text-decoration-color: #008080; font-weight: bold\">Execution Traces</span><span style=\"color: #008080; text-decoration-color: #008080\"> ────────────────────────────────────────────────╮</span>\n",
              "<span style=\"color: #008080; text-decoration-color: #008080\">│</span>                                                                                                                 <span style=\"color: #008080; text-decoration-color: #008080\">│</span>\n",
              "<span style=\"color: #008080; text-decoration-color: #008080\">│</span>  <span style=\"color: #008080; text-decoration-color: #008080; font-weight: bold\">🔍 Detailed execution traces are available!</span>                                                                    <span style=\"color: #008080; text-decoration-color: #008080\">│</span>\n",
              "<span style=\"color: #008080; text-decoration-color: #008080\">│</span>                                                                                                                 <span style=\"color: #008080; text-decoration-color: #008080\">│</span>\n",
              "<span style=\"color: #008080; text-decoration-color: #008080\">│</span>  <span style=\"color: #c0c0c0; text-decoration-color: #c0c0c0\">View insights including:</span>                                                                                       <span style=\"color: #008080; text-decoration-color: #008080\">│</span>\n",
              "<span style=\"color: #008080; text-decoration-color: #008080\">│</span>  <span style=\"color: #0000ff; text-decoration-color: #0000ff\">  • Agent decision-making process</span>                                                                              <span style=\"color: #008080; text-decoration-color: #008080\">│</span>\n",
              "<span style=\"color: #008080; text-decoration-color: #008080\">│</span>  <span style=\"color: #0000ff; text-decoration-color: #0000ff\">  • Task execution flow and timing</span>                                                                             <span style=\"color: #008080; text-decoration-color: #008080\">│</span>\n",
              "<span style=\"color: #008080; text-decoration-color: #008080\">│</span>  <span style=\"color: #0000ff; text-decoration-color: #0000ff\">  • Tool usage details</span>                                                                                         <span style=\"color: #008080; text-decoration-color: #008080\">│</span>\n",
              "<span style=\"color: #008080; text-decoration-color: #008080\">│</span>                                                                                                                 <span style=\"color: #008080; text-decoration-color: #008080\">│</span>\n",
              "<span style=\"color: #008080; text-decoration-color: #008080\">╰─────────────────────────────────────────────────────────────────────────────────────────────────────────────────╯</span>\n",
              "</pre>\n"
            ]
          },
          "metadata": {}
        },
        {
          "name": "stdout",
          "output_type": "stream",
          "text": [
            "Would you like to view your execution traces? [y/N] (20s timeout): Y\n"
          ]
        },
        {
          "output_type": "display_data",
          "data": {
            "text/plain": [
              "\u001b[32m╭─\u001b[0m\u001b[32m──────────────────────────────────────────\u001b[0m\u001b[32m Trace Batch Finalization \u001b[0m\u001b[32m───────────────────────────────────────────\u001b[0m\u001b[32m─╮\u001b[0m\n",
              "\u001b[32m│\u001b[0m ✅ Trace batch finalized with session ID: 75b59939-e32b-4be4-ac53-f013781dc072                                  \u001b[32m│\u001b[0m\n",
              "\u001b[32m│\u001b[0m                                                                                                                 \u001b[32m│\u001b[0m\n",
              "\u001b[32m│\u001b[0m 🔗 View here:                                                                                                   \u001b[32m│\u001b[0m\n",
              "\u001b[32m│\u001b[0m https://app.crewai.com/crewai_plus/ephemeral_trace_batches/75b59939-e32b-4be4-ac53-f013781dc072?access_code=TRA \u001b[32m│\u001b[0m\n",
              "\u001b[32m│\u001b[0m CE-7e69d3f94e                                                                                                   \u001b[32m│\u001b[0m\n",
              "\u001b[32m│\u001b[0m 🔑 Access Code: TRACE-7e69d3f94e                                                                                \u001b[32m│\u001b[0m\n",
              "\u001b[32m╰─────────────────────────────────────────────────────────────────────────────────────────────────────────────────╯\u001b[0m\n"
            ],
            "text/html": [
              "<pre style=\"white-space:pre;overflow-x:auto;line-height:normal;font-family:Menlo,'DejaVu Sans Mono',consolas,'Courier New',monospace\"><span style=\"color: #008000; text-decoration-color: #008000\">╭─────────────────────────────────────────── Trace Batch Finalization ────────────────────────────────────────────╮</span>\n",
              "<span style=\"color: #008000; text-decoration-color: #008000\">│</span> ✅ Trace batch finalized with session ID: 75b59939-e32b-4be4-ac53-f013781dc072                                  <span style=\"color: #008000; text-decoration-color: #008000\">│</span>\n",
              "<span style=\"color: #008000; text-decoration-color: #008000\">│</span>                                                                                                                 <span style=\"color: #008000; text-decoration-color: #008000\">│</span>\n",
              "<span style=\"color: #008000; text-decoration-color: #008000\">│</span> 🔗 View here:                                                                                                   <span style=\"color: #008000; text-decoration-color: #008000\">│</span>\n",
              "<span style=\"color: #008000; text-decoration-color: #008000\">│</span> https://app.crewai.com/crewai_plus/ephemeral_trace_batches/75b59939-e32b-4be4-ac53-f013781dc072?access_code=TRA <span style=\"color: #008000; text-decoration-color: #008000\">│</span>\n",
              "<span style=\"color: #008000; text-decoration-color: #008000\">│</span> CE-7e69d3f94e                                                                                                   <span style=\"color: #008000; text-decoration-color: #008000\">│</span>\n",
              "<span style=\"color: #008000; text-decoration-color: #008000\">│</span> 🔑 Access Code: TRACE-7e69d3f94e                                                                                <span style=\"color: #008000; text-decoration-color: #008000\">│</span>\n",
              "<span style=\"color: #008000; text-decoration-color: #008000\">╰─────────────────────────────────────────────────────────────────────────────────────────────────────────────────╯</span>\n",
              "</pre>\n"
            ]
          },
          "metadata": {}
        },
        {
          "output_type": "display_data",
          "data": {
            "text/plain": [
              "\n",
              "\n"
            ],
            "text/html": [
              "<pre style=\"white-space:pre;overflow-x:auto;line-height:normal;font-family:Menlo,'DejaVu Sans Mono',consolas,'Courier New',monospace\">\n",
              "\n",
              "</pre>\n"
            ]
          },
          "metadata": {}
        },
        {
          "output_type": "display_data",
          "data": {
            "text/plain": [
              "\u001b[92m╭─\u001b[0m\u001b[92m────────────────────────────────────────\u001b[0m\u001b[92m 🔍 Execution Trace Generated \u001b[0m\u001b[92m─────────────────────────────────────────\u001b[0m\u001b[92m─╮\u001b[0m\n",
              "\u001b[92m│\u001b[0m                                                                                                                 \u001b[92m│\u001b[0m\n",
              "\u001b[92m│\u001b[0m  🎉 Your First CrewAI Execution Trace is Ready!                                                                 \u001b[92m│\u001b[0m\n",
              "\u001b[92m│\u001b[0m                                                                                                                 \u001b[92m│\u001b[0m\n",
              "\u001b[92m│\u001b[0m  View your execution details here:                                                                              \u001b[92m│\u001b[0m\n",
              "\u001b[92m│\u001b[0m  https://app.crewai.com/crewai_plus/ephemeral_trace_batches/75b59939-e32b-4be4-ac53-f013781dc072?access_code=T  \u001b[92m│\u001b[0m\n",
              "\u001b[92m│\u001b[0m  RACE-7e69d3f94e                                                                                                \u001b[92m│\u001b[0m\n",
              "\u001b[92m│\u001b[0m                                                                                                                 \u001b[92m│\u001b[0m\n",
              "\u001b[92m│\u001b[0m  This trace shows:                                                                                              \u001b[92m│\u001b[0m\n",
              "\u001b[92m│\u001b[0m  • Agent decisions and interactions                                                                             \u001b[92m│\u001b[0m\n",
              "\u001b[92m│\u001b[0m  • Task execution timeline                                                                                      \u001b[92m│\u001b[0m\n",
              "\u001b[92m│\u001b[0m  • Tool usage and results                                                                                       \u001b[92m│\u001b[0m\n",
              "\u001b[92m│\u001b[0m  • LLM calls and responses                                                                                      \u001b[92m│\u001b[0m\n",
              "\u001b[92m│\u001b[0m                                                                                                                 \u001b[92m│\u001b[0m\n",
              "\u001b[92m│\u001b[0m  ✅ Tracing has been enabled for future runs! (CREWAI_TRACING_ENABLED=true added to .env)                       \u001b[92m│\u001b[0m\n",
              "\u001b[92m│\u001b[0m  You can also add tracing=True to your Crew(tracing=True) / Flow(tracing=True) for more control.                \u001b[92m│\u001b[0m\n",
              "\u001b[92m│\u001b[0m                                                                                                                 \u001b[92m│\u001b[0m\n",
              "\u001b[92m│\u001b[0m  📝 Note: This link will expire in 24 hours.                                                                    \u001b[92m│\u001b[0m\n",
              "\u001b[92m│\u001b[0m                                                                                                                 \u001b[92m│\u001b[0m\n",
              "\u001b[92m╰─────────────────────────────────────────────────────────────────────────────────────────────────────────────────╯\u001b[0m\n"
            ],
            "text/html": [
              "<pre style=\"white-space:pre;overflow-x:auto;line-height:normal;font-family:Menlo,'DejaVu Sans Mono',consolas,'Courier New',monospace\"><span style=\"color: #00ff00; text-decoration-color: #00ff00\">╭───────────────────────────────────────── 🔍 Execution Trace Generated ──────────────────────────────────────────╮</span>\n",
              "<span style=\"color: #00ff00; text-decoration-color: #00ff00\">│</span>                                                                                                                 <span style=\"color: #00ff00; text-decoration-color: #00ff00\">│</span>\n",
              "<span style=\"color: #00ff00; text-decoration-color: #00ff00\">│</span>  🎉 Your First CrewAI Execution Trace is Ready!                                                                 <span style=\"color: #00ff00; text-decoration-color: #00ff00\">│</span>\n",
              "<span style=\"color: #00ff00; text-decoration-color: #00ff00\">│</span>                                                                                                                 <span style=\"color: #00ff00; text-decoration-color: #00ff00\">│</span>\n",
              "<span style=\"color: #00ff00; text-decoration-color: #00ff00\">│</span>  View your execution details here:                                                                              <span style=\"color: #00ff00; text-decoration-color: #00ff00\">│</span>\n",
              "<span style=\"color: #00ff00; text-decoration-color: #00ff00\">│</span>  https://app.crewai.com/crewai_plus/ephemeral_trace_batches/75b59939-e32b-4be4-ac53-f013781dc072?access_code=T  <span style=\"color: #00ff00; text-decoration-color: #00ff00\">│</span>\n",
              "<span style=\"color: #00ff00; text-decoration-color: #00ff00\">│</span>  RACE-7e69d3f94e                                                                                                <span style=\"color: #00ff00; text-decoration-color: #00ff00\">│</span>\n",
              "<span style=\"color: #00ff00; text-decoration-color: #00ff00\">│</span>                                                                                                                 <span style=\"color: #00ff00; text-decoration-color: #00ff00\">│</span>\n",
              "<span style=\"color: #00ff00; text-decoration-color: #00ff00\">│</span>  This trace shows:                                                                                              <span style=\"color: #00ff00; text-decoration-color: #00ff00\">│</span>\n",
              "<span style=\"color: #00ff00; text-decoration-color: #00ff00\">│</span>  • Agent decisions and interactions                                                                             <span style=\"color: #00ff00; text-decoration-color: #00ff00\">│</span>\n",
              "<span style=\"color: #00ff00; text-decoration-color: #00ff00\">│</span>  • Task execution timeline                                                                                      <span style=\"color: #00ff00; text-decoration-color: #00ff00\">│</span>\n",
              "<span style=\"color: #00ff00; text-decoration-color: #00ff00\">│</span>  • Tool usage and results                                                                                       <span style=\"color: #00ff00; text-decoration-color: #00ff00\">│</span>\n",
              "<span style=\"color: #00ff00; text-decoration-color: #00ff00\">│</span>  • LLM calls and responses                                                                                      <span style=\"color: #00ff00; text-decoration-color: #00ff00\">│</span>\n",
              "<span style=\"color: #00ff00; text-decoration-color: #00ff00\">│</span>                                                                                                                 <span style=\"color: #00ff00; text-decoration-color: #00ff00\">│</span>\n",
              "<span style=\"color: #00ff00; text-decoration-color: #00ff00\">│</span>  ✅ Tracing has been enabled for future runs! (CREWAI_TRACING_ENABLED=true added to .env)                       <span style=\"color: #00ff00; text-decoration-color: #00ff00\">│</span>\n",
              "<span style=\"color: #00ff00; text-decoration-color: #00ff00\">│</span>  You can also add tracing=True to your Crew(tracing=True) / Flow(tracing=True) for more control.                <span style=\"color: #00ff00; text-decoration-color: #00ff00\">│</span>\n",
              "<span style=\"color: #00ff00; text-decoration-color: #00ff00\">│</span>                                                                                                                 <span style=\"color: #00ff00; text-decoration-color: #00ff00\">│</span>\n",
              "<span style=\"color: #00ff00; text-decoration-color: #00ff00\">│</span>  📝 Note: This link will expire in 24 hours.                                                                    <span style=\"color: #00ff00; text-decoration-color: #00ff00\">│</span>\n",
              "<span style=\"color: #00ff00; text-decoration-color: #00ff00\">│</span>                                                                                                                 <span style=\"color: #00ff00; text-decoration-color: #00ff00\">│</span>\n",
              "<span style=\"color: #00ff00; text-decoration-color: #00ff00\">╰─────────────────────────────────────────────────────────────────────────────────────────────────────────────────╯</span>\n",
              "</pre>\n"
            ]
          },
          "metadata": {}
        },
        {
          "output_type": "display_data",
          "data": {
            "text/plain": [
              "\n"
            ],
            "text/html": [
              "<pre style=\"white-space:pre;overflow-x:auto;line-height:normal;font-family:Menlo,'DejaVu Sans Mono',consolas,'Courier New',monospace\">\n",
              "</pre>\n"
            ]
          },
          "metadata": {}
        },
        {
          "output_type": "stream",
          "name": "stdout",
          "text": [
            "Prueba CrewAI OK:\n",
            " CrewAI es una inteligencia artificial (IA) diseñada para colaborar con equipos humanos en proyectos y tareas. Utiliza tecnologías de procesamiento de lenguaje natural y aprendizaje automático para entender las necesidades del equipo, asignar tareas, coordinar esfuerzos y ofrecer asistencia en tiempo real.\n"
          ]
        }
      ]
    },
    {
      "cell_type": "code",
      "source": [
        "from nanda_adapter import NANDA\n",
        "\n",
        "def crewai_improvement(message_text: str) -> str:\n",
        "    t = Task(\n",
        "        description=f\"Responde de forma clara a: {message_text}\",\n",
        "        expected_output=\"Una respuesta breve y útil.\",\n",
        "        agent=helper,\n",
        "    )\n",
        "    out = Crew(agents=[helper], tasks=[t]).kickoff()\n",
        "    return str(out)\n",
        "\n",
        "nanda = NANDA(crewai_improvement)"
      ],
      "metadata": {
        "colab": {
          "base_uri": "https://localhost:8080/"
        },
        "id": "8E651Bp60b1B",
        "outputId": "791ba26e-12c8-48ff-a582-8be8e0a586cb"
      },
      "id": "8E651Bp60b1B",
      "execution_count": 21,
      "outputs": [
        {
          "output_type": "stream",
          "name": "stdout",
          "text": [
            "🤖 NANDA initialized with custom improvement logic: crewai_improvement\n",
            "🔧 Custom improvement logic 'crewai_improvement' registered\n",
            "Message improver set to: nanda_custom\n",
            "✅ AgentBridge created with custom improve_message_direct: crewai_improvement\n"
          ]
        }
      ]
    },
    {
      "cell_type": "markdown",
      "source": [
        "## 🚀 Ejecución del servidor NANDA\n",
        "\n",
        "Una vez configurado el servidor, se lanza como un proceso independiente utilizando `subprocess.Popen`.  \n",
        "Esto evita los errores de `signal` que se producen si se ejecuta dentro de un hilo y permite capturar la salida del log sin bloquear el notebook.\n",
        "\n",
        "El log mostrará:\n",
        "- ID del agente generado automáticamente.\n",
        "- IP del servidor.\n",
        "- URL público asignado por NANDA.\n",
        "- Estado de registro en el `registry` central.\n"
      ],
      "metadata": {
        "id": "y1VnAU5K5MXv"
      },
      "id": "y1VnAU5K5MXv"
    },
    {
      "cell_type": "code",
      "source": [
        "proc = subprocess.Popen(\n",
        "    [sys.executable, \"-u\", \"/mnt/data/server_nanda.py\"],\n",
        "    stdout=subprocess.PIPE, stderr=subprocess.STDOUT, text=True, env=os.environ.copy()\n",
        ")\n",
        "\n",
        "time.sleep(2)\n",
        "for _ in range(20):\n",
        "    line = proc.stdout.readline()\n",
        "    if not line:\n",
        "        break\n",
        "    print(line.rstrip())\n"
      ],
      "metadata": {
        "colab": {
          "base_uri": "https://localhost:8080/"
        },
        "id": "N6c_QMp90nqi",
        "outputId": "5b1a6599-a852-4b13-ffcd-67aeda30ae6e"
      },
      "id": "N6c_QMp90nqi",
      "execution_count": 27,
      "outputs": [
        {
          "output_type": "stream",
          "name": "stdout",
          "text": [
            "🤖 NANDA initialized with custom improvement logic: crewai_improvement\n",
            "🔧 Custom improvement logic 'crewai_improvement' registered\n",
            "Message improver set to: nanda_custom\n",
            "✅ AgentBridge created with custom improve_message_direct: crewai_improvement\n",
            "🌐 Detecting server IP address...\n",
            "✅ Detected server IP: 34.125.248.107\n",
            "🤖 Auto-generated agent ID: agents513758\n",
            "🔗 Auto-generated public URL: http://34.125.248.107:6000\n",
            "Registry URL file not found. Using default: https://chat.nanda-registry.com:6900\n",
            "🚀 Starting agent bridge for agents513758 on port 6000...\n",
            "🚀 NANDA starting agent_bridge server with custom logic...\n",
            "🔧 UI_CLIENT_URL: https://localhost:6001/api/receive_message\n",
            "Using default registry URL: https://chat.nanda-registry.com:6900\n",
            "Registering agent agents513758 with URL http://34.125.248.107:6000 at registry https://chat.nanda-registry.com:6900...\n",
            "\n",
            "==================================================\n",
            "🤖 Agent agents513758 is running\n",
            "🌐 Server IP: 34.125.248.107\n",
            "Agent Bridge URL: http://localhost:6000/a2a\n",
            "Public Client API URL: http://34.125.248.107:6000\n"
          ]
        }
      ]
    },
    {
      "cell_type": "markdown",
      "source": [
        "## 🧭 Conclusiones y próximos pasos\n",
        "\n",
        "El proyecto **Nandito** demuestra la interoperabilidad práctica entre agentes de IA distribuidos mediante **CrewAI** y **NANDA**, utilizando **AWS Bedrock** como base de procesamiento cognitivo.\n",
        "\n",
        "### Resultados obtenidos:\n",
        "- Conexión exitosa con AWS Bedrock y ejecución del modelo Claude 3 Haiku.\n",
        "- Integración funcional entre CrewAI y NANDA Adapter.\n",
        "- Implementación de un servidor de mensajes accesible vía API REST.\n",
        "\n",
        "### Próximos pasos:\n",
        "- Extender el sistema a comunicación multiagente (CrewAI + Soly + NANDA).\n",
        "- Incorporar una capa de reputación y trazabilidad descentralizada.\n",
        "- Publicar el agente en una red abierta para pruebas entre universidades o comunidades técnicas.\n",
        "\n",
        "---\n",
        "**ODS relacionados:**\n",
        "- ODS 9 – Industria, innovación e infraestructura  \n",
        "- ODS 16 – Paz, justicia e instituciones sólidas  \n",
        "- ODS 17 – Alianzas para lograr los objetivos\n"
      ],
      "metadata": {
        "id": "pOhU2SQb5rfw"
      },
      "id": "pOhU2SQb5rfw"
    }
  ],
  "metadata": {
    "colab": {
      "provenance": []
    },
    "language_info": {
      "name": "python"
    },
    "kernelspec": {
      "name": "python3",
      "display_name": "Python 3"
    }
  },
  "nbformat": 4,
  "nbformat_minor": 5
}